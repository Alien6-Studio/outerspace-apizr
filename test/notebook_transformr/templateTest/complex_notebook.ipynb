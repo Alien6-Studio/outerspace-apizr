{
 "cells": [
  {
   "cell_type": "code",
   "execution_count": null,
   "id": "6d18fe4f",
   "metadata": {},
   "outputs": [],
   "source": [
    "import numpy as np\n",
    "import pandas as pd\n",
    "from sklearn.datasets import load_iris"
   ]
  },
  {
   "cell_type": "code",
   "execution_count": null,
   "id": "3df9cfa0",
   "metadata": {},
   "outputs": [],
   "source": [
    "class DataProcessor:\n",
    "    def __init__(self, data):\n",
    "        self.data = data\n",
    "\n",
    "    def normalize(self):\n",
    "        return (self.data - np.mean(self.data)) / np.std(self.data)"
   ]
  },
  {
   "cell_type": "code",
   "execution_count": null,
   "id": "7d47526a",
   "metadata": {},
   "outputs": [],
   "source": [
    "processor = DataProcessor(np.array([1, 2, 3, 4, 5]))\n",
    "processor.normalize()"
   ]
  }
 ],
 "metadata": {},
 "nbformat": 4,
 "nbformat_minor": 5
}