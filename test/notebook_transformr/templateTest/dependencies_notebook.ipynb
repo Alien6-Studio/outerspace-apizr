{
 "cells": [
  {
   "cell_type": "code",
   "execution_count": null,
   "id": "b9383172",
   "metadata": {},
   "outputs": [],
   "source": [
    "import numpy as np\n",
    "import pandas as pd\n",
    "import matplotlib.pyplot as plt"
   ]
  },
  {
   "cell_type": "code",
   "execution_count": null,
   "id": "9a1de27a",
   "metadata": {},
   "outputs": [],
   "source": [
    "data = np.random.randn(100)\n",
    "plt.plot(data)"
   ]
  }
 ],
 "metadata": {},
 "nbformat": 4,
 "nbformat_minor": 5
}
