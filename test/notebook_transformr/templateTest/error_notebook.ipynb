{
 "cells": [
  {
   "cell_type": "code",
   "execution_count": null,
   "id": "f808e9a2",
   "metadata": {},
   "outputs": [],
   "source": [
    "a = 5 + 'string'"
   ]
  }
 ],
 "metadata": {},
 "nbformat": 4,
 "nbformat_minor": 5
}
