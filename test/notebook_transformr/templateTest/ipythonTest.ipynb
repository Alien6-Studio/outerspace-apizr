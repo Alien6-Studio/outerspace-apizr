{
    "cells": [
      {
        "cell_type": "code",
        "execution_count": 1,
        "metadata": {},
        "outputs": [],
        "source": [
          "%matplotlib inline",
          "import matplotlib.pyplot as plt"
        ]
      }
    ],
    "metadata": {},
    "nbformat": 4,
    "nbformat_minor": 2
  }
  