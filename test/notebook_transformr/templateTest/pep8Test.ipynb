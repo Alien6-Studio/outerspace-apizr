{
    "cells": [
        {
            "cell_type": "code",
            "execution_count": 1,
            "metadata": {},
            "outputs": [],
            "source": [
                "import numpy as np,matplotlib.pyplot as plt\n",
                "def plot_data(data):\n",
                "  if data is not None:plt.plot(data);plt.show()"
            ]
        },
        {
            "cell_type": "code",
            "execution_count": 2,
            "metadata": {},
            "outputs": [],
            "source": [
                "data=np.random.randn(100)\n",
                "plot_data    (data)"
            ]
        }
    ],
    "metadata": {
        "kernelspec": {
            "display_name": "Python 3",
            "language": "python",
            "name": "python3"
        }
    },
    "nbformat": 4,
    "nbformat_minor": 2
}
