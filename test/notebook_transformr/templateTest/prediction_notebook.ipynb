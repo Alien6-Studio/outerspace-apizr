{
 "cells": [
  {
   "cell_type": "code",
   "execution_count": null,
   "id": "59a4e144",
   "metadata": {},
   "outputs": [],
   "source": [
    "from sklearn.datasets import load_iris\n",
    "from sklearn.linear_model import LogisticRegression"
   ]
  },
  {
   "cell_type": "code",
   "execution_count": null,
   "id": "9881fc8d",
   "metadata": {},
   "outputs": [],
   "source": [
    "iris = load_iris()\n",
    "X, y = iris.data, iris.target\n",
    "model = LogisticRegression().fit(X, y)"
   ]
  },
  {
   "cell_type": "code",
   "execution_count": null,
   "id": "58bd63b7",
   "metadata": {},
   "outputs": [],
   "source": [
    "def predict_species(data):\n",
    "    return iris.target_names[model.predict([data])[0]]"
   ]
  },
  {
   "cell_type": "code",
   "execution_count": null,
   "id": "e8d09c20",
   "metadata": {},
   "outputs": [],
   "source": [
    "predict_species([5.1, 3.5, 1.4, 0.2])"
   ]
  }
 ],
 "metadata": {},
 "nbformat": 4,
 "nbformat_minor": 5
}
