{
 "cells": [
  {
   "cell_type": "code",
   "execution_count": null,
   "id": "a7fa01cc",
   "metadata": {},
   "outputs": [],
   "source": [
    "API_KEY = 'ABC123XYZ'\n",
    "PASSWORD = 'SuperSecret'"
   ]
  }
 ],
 "metadata": {},
 "nbformat": 4,
 "nbformat_minor": 5
}
