{
 "cells": [
  {
   "cell_type": "code",
   "execution_count": null,
   "id": "e3a63b5a",
   "metadata": {},
   "outputs": [],
   "source": [
    "import requests\n",
    "\n",
    "response = requests.get(\"https://api.example.com/data\")\n",
    "response.json()"
   ]
  }
 ],
 "metadata": {},
 "nbformat": 4,
 "nbformat_minor": 5
}