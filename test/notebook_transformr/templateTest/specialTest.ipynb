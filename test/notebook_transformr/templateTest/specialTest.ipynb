{
    "cells": [
      {
        "cell_type": "code",
        "execution_count": 1,
        "metadata": {},
        "outputs": [],
        "source": [
          "# Commentaire avec des caractères spéciaux: é, ñ, ü"
        ]
      }
    ],
    "metadata": {},
    "nbformat": 4,
    "nbformat_minor": 2
  }
  